{
 "cells": [
  {
   "cell_type": "markdown",
   "metadata": {},
   "source": [
    "This code is forked from\n",
    "https://www.kaggle.com/zusmani/lgb-esemble-xgb-be-in-top-100-with-lb-0-285/output,\n",
    "but rewritten to use my feature engineering, and to include models from https://www.kaggle.com/yekenot/simple-stacker-lb-0-284/code"
   ]
  },
  {
   "cell_type": "code",
   "execution_count": null,
   "metadata": {
    "collapsed": true
   },
   "outputs": [],
   "source": [
    "import pandas as pd\n",
    "import numpy as np\n",
    "\n",
    "from sklearn.model_selection import StratifiedKFold\n",
    "from sklearn.model_selection import cross_val_score\n",
    "\n",
    "from xgboost import XGBClassifier\n",
    "from lightgbm import LGBMClassifier\n",
    "from catboost import CatBoostClassifier\n",
    "from sklearn.linear_model import LogisticRegression\n",
    "from sklearn.ensemble import GradientBoostingClassifier, RandomForestClassifier, ExtraTreesClassifier, AdaBoostClassifier\n",
    "\n",
    "# Regularized Greedy Forest\n",
    "from rgf.sklearn import RGFClassifier     # https://github.com/fukatani/rgf_python"
   ]
  },
  {
   "cell_type": "code",
   "execution_count": null,
   "metadata": {
    "collapsed": true
   },
   "outputs": [],
   "source": [
    "# the .2 csv means it has been feature engineering\n",
    "\n",
    "train = pd.read_csv('train2.csv')\n",
    "test = pd.read_csv('test2.csv')"
   ]
  },
  {
   "cell_type": "code",
   "execution_count": 1,
   "metadata": {},
   "outputs": [
    {
     "ename": "NameError",
     "evalue": "name 'train' is not defined",
     "output_type": "error",
     "traceback": [
      "\u001b[0;31m---------------------------------------------------------------------------\u001b[0m",
      "\u001b[0;31mNameError\u001b[0m                                 Traceback (most recent call last)",
      "\u001b[0;32m<ipython-input-1-3cccd0f9d5ad>\u001b[0m in \u001b[0;36m<module>\u001b[0;34m()\u001b[0m\n\u001b[0;32m----> 1\u001b[0;31m \u001b[0mtrain\u001b[0m\u001b[0;34m.\u001b[0m\u001b[0mcolumns\u001b[0m\u001b[0;34m\u001b[0m\u001b[0m\n\u001b[0m",
      "\u001b[0;31mNameError\u001b[0m: name 'train' is not defined"
     ]
    }
   ],
   "source": [
    "train.columns"
   ]
  },
  {
   "cell_type": "code",
   "execution_count": 2,
   "metadata": {},
   "outputs": [
    {
     "ename": "NameError",
     "evalue": "name 'test' is not defined",
     "output_type": "error",
     "traceback": [
      "\u001b[0;31m---------------------------------------------------------------------------\u001b[0m",
      "\u001b[0;31mNameError\u001b[0m                                 Traceback (most recent call last)",
      "\u001b[0;32m<ipython-input-2-a23069949f97>\u001b[0m in \u001b[0;36m<module>\u001b[0;34m()\u001b[0m\n\u001b[0;32m----> 1\u001b[0;31m \u001b[0mtest\u001b[0m\u001b[0;34m.\u001b[0m\u001b[0mcolumns\u001b[0m\u001b[0;34m\u001b[0m\u001b[0m\n\u001b[0m",
      "\u001b[0;31mNameError\u001b[0m: name 'test' is not defined"
     ]
    }
   ],
   "source": [
    "test.columns"
   ]
  },
  {
   "cell_type": "code",
   "execution_count": null,
   "metadata": {
    "collapsed": true
   },
   "outputs": [],
   "source": []
  },
  {
   "cell_type": "code",
   "execution_count": null,
   "metadata": {
    "collapsed": true
   },
   "outputs": [],
   "source": [
    "\n",
    "\n",
    "## XGB \n",
    "## Thanks to The1owl for providing well tuned parameters for xgb == https://www.kaggle.com/the1owl/forza-baseline/code\n",
    "\n",
    "def gini(y, pred):\n",
    "    fpr, tpr, thr = metrics.roc_curve(y, pred, pos_label=1)\n",
    "    g = 2 * metrics.auc(fpr, tpr) -1\n",
    "    return g\n",
    "\n",
    "def gini_xgb(pred, y):\n",
    "    y = y.get_label()\n",
    "    return 'gini', gini(y, pred)\n",
    "\n",
    "params = {'eta': 0.33, 'max_depth': 4, 'subsample': 0.9, 'colsample_bytree': 0.9, 'objective': 'binary:logistic', 'eval_metric': 'auc', 'seed': 99, 'silent': True}\n",
    "x1, x2, y1, y2 = model_selection.train_test_split(train, train['target'], test_size=0.25, random_state=99)\n"
   ]
  },
  {
   "cell_type": "code",
   "execution_count": null,
   "metadata": {
    "collapsed": true
   },
   "outputs": [],
   "source": [
    "x1 = multi_transform(x1)\n",
    "x2 = multi_transform(x2)\n",
    "lgbtest=test\n",
    "test = multi_transform(test)\n",
    "\n",
    "col = [c for c in x1.columns if c not in ['id','target']]\n",
    "col = [c for c in col if not c.startswith('ps_calc_')]\n",
    "print(x1.values.shape, x2.values.shape)\n",
    "\n",
    "#remove duplicates just in case\n",
    "tdups = multi_transform(train)\n",
    "dups = tdups[tdups.duplicated(subset=col, keep=False)]\n",
    "\n",
    "x1 = x1[~(x1['id'].isin(dups['id'].values))]\n",
    "x2 = x2[~(x2['id'].isin(dups['id'].values))]\n",
    "print(x1.values.shape, x2.values.shape)\n",
    "\n",
    "y1 = x1['target']\n",
    "y2 = x2['target']\n",
    "x1 = x1[col]\n",
    "x2 = x2[col]\n",
    "\n",
    "watchlist = [(xgb.DMatrix(x1, y1), 'train'), (xgb.DMatrix(x2, y2), 'valid')]\n",
    "model = xgb.train(params, xgb.DMatrix(x1, y1), 5000,  watchlist, feval=gini_xgb, maximize=True, verbose_eval=50, early_stopping_rounds=200)\n",
    "test['target'] = model.predict(xgb.DMatrix(test[col]), ntree_limit=model.best_ntree_limit+45)\n",
    "test['target'] = (np.exp(test['target'].values) - 1.0).clip(0,1)\n",
    "test[['id','target']].to_csv('xgb_submission.csv', index=False, float_format='%.5f'"
   ]
  },
  {
   "cell_type": "code",
   "execution_count": null,
   "metadata": {
    "collapsed": true
   },
   "outputs": [],
   "source": [
    "\n",
    "\n",
    "#### LGB Ensemble\n",
    "##Thanks to Vladimir Demidov == source: https://www.kaggle.com/yekenot/simple-stacker-lb-0-284/code \n",
    "\n",
    "test = lgbtest\n",
    "train = train.drop(['target','id'], axis = 1)\n",
    "test = test.drop(['id'], axis = 1)\n",
    "\n",
    "col_to_drop = train.columns[train.columns.str.startswith('ps_calc_')]\n",
    "train = train.drop(col_to_drop, axis=1)  \n",
    "test = test.drop(col_to_drop, axis=1)  \n",
    "\n",
    "\n",
    "class Ensemble(object):\n",
    "    def __init__(self, n_splits, stacker, base_models):\n",
    "        self.n_splits = n_splits\n",
    "        self.stacker = stacker\n",
    "        self.base_models = base_models\n",
    "\n",
    "    def fit_predict(self, X, y, T):\n",
    "        X = np.array(X)\n",
    "        y = np.array(y)\n",
    "        T = np.array(T)\n",
    "\n",
    "        folds = list(StratifiedKFold(n_splits=self.n_splits, shuffle=True, random_state=2016).split(X, y))\n",
    "\n",
    "        S_train = np.zeros((X.shape[0], len(self.base_models)))\n",
    "        S_test = np.zeros((T.shape[0], len(self.base_models)))\n",
    "        for i, clf in enumerate(self.base_models):\n",
    "\n",
    "            S_test_i = np.zeros((T.shape[0], self.n_splits))\n",
    "\n",
    "            for j, (train_idx, test_idx) in enumerate(folds):\n",
    "                X_train = X[train_idx]\n",
    "                y_train = y[train_idx]\n",
    "                X_holdout = X[test_idx]\n",
    "#                y_holdout = y[test_idx]\n",
    "\n",
    "                print (\"Fit %s fold %d\" % (str(clf).split('(')[0], j+1))\n",
    "                clf.fit(X_train, y_train)\n",
    "#                cross_score = cross_val_score(clf, X_train, y_train, cv=3, scoring='roc_auc')\n",
    "#                print(\"    cross_score: %.5f\" % (cross_score.mean()))\n",
    "                y_pred = clf.predict_proba(X_holdout)[:,1]                \n",
    "\n",
    "                S_train[test_idx, i] = y_pred\n",
    "                S_test_i[:, j] = clf.predict_proba(T)[:,1]\n",
    "            S_test[:, i] = S_test_i.mean(axis=1)\n",
    "\n",
    "        results = cross_val_score(self.stacker, S_train, y, cv=3, scoring='roc_auc')\n",
    "        print(\"Stacker score: %.5f\" % (results.mean()))\n",
    "\n",
    "        self.stacker.fit(S_train, y)\n",
    "        res = self.stacker.predict_proba(S_test)[:,1]\n",
    "        return res"
   ]
  },
  {
   "cell_type": "code",
   "execution_count": null,
   "metadata": {
    "collapsed": true
   },
   "outputs": [],
   "source": [
    "# RandomForest params\n",
    "#rf_params = {}\n",
    "#rf_params['n_estimators'] = 200\n",
    "#rf_params['max_depth'] = 6\n",
    "#rf_params['min_samples_split'] = 70\n",
    "#rf_params['min_samples_leaf'] = 30\n",
    "\n",
    "\n",
    "# ExtraTrees params\n",
    "#et_params = {}\n",
    "#et_params['n_estimators'] = 155\n",
    "#et_params['max_features'] = 0.3\n",
    "#et_params['max_depth'] = 6\n",
    "#et_params['min_samples_split'] = 40\n",
    "#et_params['min_samples_leaf'] = 18\n",
    "\n",
    "\n",
    "# XGBoost params\n",
    "#xgb_params = {}\n",
    "#xgb_params['objective'] = 'binary:logistic'\n",
    "#xgb_params['learning_rate'] = 0.04\n",
    "#xgb_params['n_estimators'] = 490\n",
    "#xgb_params['max_depth'] = 4\n",
    "#xgb_params['subsample'] = 0.9\n",
    "#xgb_params['colsample_bytree'] = 0.9  \n",
    "#xgb_params['min_child_weight'] = 10\n",
    "\n",
    "\n",
    "# CatBoost params\n",
    "#cat_params = {}\n",
    "#cat_params['iterations'] = 900\n",
    "#cat_params['depth'] = 8\n",
    "#cat_params['rsm'] = 0.95\n",
    "#cat_params['learning_rate'] = 0.03\n",
    "#cat_params['l2_leaf_reg'] = 3.5  \n",
    "#cat_params['border_count'] = 8\n",
    "#cat_params['gradient_iterations'] = 4\n",
    "\n",
    "\n",
    "# Regularized Greedy Forest params\n",
    "#rgf_params = {}\n",
    "#rgf_params['max_leaf'] = 2000\n",
    "#rgf_params['learning_rate'] = 0.5\n",
    "#rgf_params['algorithm'] = \"RGF_Sib\"\n",
    "#rgf_params['test_interval'] = 100\n",
    "#rgf_params['min_samples_leaf'] = 3 \n",
    "#rgf_params['reg_depth'] = 1.0\n",
    "#rgf_params['l2'] = 0.5  \n",
    "#rgf_params['sl2'] = 0.005\n"
   ]
  },
  {
   "cell_type": "code",
   "execution_count": 10,
   "metadata": {},
   "outputs": [
    {
     "name": "stdout",
     "output_type": "stream",
     "text": [
      "(595212, 62) (892816, 61)\n",
      "Init Shape:  (446409, 62)\n",
      "After Shape:  (446409, 208)\n",
      "Init Shape:  (148803, 62)\n",
      "After Shape:  (148803, 208)\n",
      "Init Shape:  (892816, 61)\n"
     ]
    },
    {
     "name": "stderr",
     "output_type": "stream",
     "text": [
      "/usr/local/lib/python3.5/dist-packages/ipykernel_launcher.py:55: RuntimeWarning: invalid value encountered in greater\n",
      "/usr/local/lib/python3.5/dist-packages/ipykernel_launcher.py:56: RuntimeWarning: invalid value encountered in greater\n",
      "/usr/local/lib/python3.5/dist-packages/ipykernel_launcher.py:55: RuntimeWarning: invalid value encountered in greater\n",
      "/usr/local/lib/python3.5/dist-packages/ipykernel_launcher.py:56: RuntimeWarning: invalid value encountered in greater\n",
      "/usr/local/lib/python3.5/dist-packages/ipykernel_launcher.py:55: RuntimeWarning: invalid value encountered in greater\n",
      "/usr/local/lib/python3.5/dist-packages/ipykernel_launcher.py:56: RuntimeWarning: invalid value encountered in greater\n",
      "/usr/local/lib/python3.5/dist-packages/ipykernel_launcher.py:55: RuntimeWarning: invalid value encountered in greater\n",
      "/usr/local/lib/python3.5/dist-packages/ipykernel_launcher.py:56: RuntimeWarning: invalid value encountered in greater\n",
      "/usr/local/lib/python3.5/dist-packages/ipykernel_launcher.py:55: RuntimeWarning: invalid value encountered in greater\n",
      "/usr/local/lib/python3.5/dist-packages/ipykernel_launcher.py:56: RuntimeWarning: invalid value encountered in greater\n",
      "/usr/local/lib/python3.5/dist-packages/ipykernel_launcher.py:55: RuntimeWarning: invalid value encountered in greater\n",
      "/usr/local/lib/python3.5/dist-packages/ipykernel_launcher.py:56: RuntimeWarning: invalid value encountered in greater\n",
      "/usr/local/lib/python3.5/dist-packages/ipykernel_launcher.py:55: RuntimeWarning: invalid value encountered in greater\n",
      "/usr/local/lib/python3.5/dist-packages/ipykernel_launcher.py:56: RuntimeWarning: invalid value encountered in greater\n",
      "/usr/local/lib/python3.5/dist-packages/ipykernel_launcher.py:55: RuntimeWarning: invalid value encountered in greater\n",
      "/usr/local/lib/python3.5/dist-packages/ipykernel_launcher.py:56: RuntimeWarning: invalid value encountered in greater\n",
      "/usr/local/lib/python3.5/dist-packages/ipykernel_launcher.py:55: RuntimeWarning: invalid value encountered in greater\n",
      "/usr/local/lib/python3.5/dist-packages/ipykernel_launcher.py:56: RuntimeWarning: invalid value encountered in greater\n",
      "/usr/local/lib/python3.5/dist-packages/ipykernel_launcher.py:56: RuntimeWarning: invalid value encountered in greater\n",
      "/usr/local/lib/python3.5/dist-packages/ipykernel_launcher.py:55: RuntimeWarning: invalid value encountered in greater\n",
      "/usr/local/lib/python3.5/dist-packages/ipykernel_launcher.py:55: RuntimeWarning: invalid value encountered in greater\n",
      "/usr/local/lib/python3.5/dist-packages/ipykernel_launcher.py:56: RuntimeWarning: invalid value encountered in greater\n",
      "/usr/local/lib/python3.5/dist-packages/ipykernel_launcher.py:56: RuntimeWarning: invalid value encountered in greater\n",
      "/usr/local/lib/python3.5/dist-packages/ipykernel_launcher.py:55: RuntimeWarning: invalid value encountered in greater\n",
      "/usr/local/lib/python3.5/dist-packages/ipykernel_launcher.py:55: RuntimeWarning: invalid value encountered in greater\n",
      "/usr/local/lib/python3.5/dist-packages/ipykernel_launcher.py:56: RuntimeWarning: invalid value encountered in greater\n",
      "/usr/local/lib/python3.5/dist-packages/ipykernel_launcher.py:55: RuntimeWarning: invalid value encountered in greater\n",
      "/usr/local/lib/python3.5/dist-packages/ipykernel_launcher.py:56: RuntimeWarning: invalid value encountered in greater\n",
      "/usr/local/lib/python3.5/dist-packages/ipykernel_launcher.py:56: RuntimeWarning: invalid value encountered in greater\n",
      "/usr/local/lib/python3.5/dist-packages/ipykernel_launcher.py:55: RuntimeWarning: invalid value encountered in greater\n",
      "/usr/local/lib/python3.5/dist-packages/ipykernel_launcher.py:55: RuntimeWarning: invalid value encountered in greater\n",
      "/usr/local/lib/python3.5/dist-packages/ipykernel_launcher.py:56: RuntimeWarning: invalid value encountered in greater\n",
      "/usr/local/lib/python3.5/dist-packages/ipykernel_launcher.py:55: RuntimeWarning: invalid value encountered in greater\n",
      "/usr/local/lib/python3.5/dist-packages/ipykernel_launcher.py:56: RuntimeWarning: invalid value encountered in greater\n",
      "/usr/local/lib/python3.5/dist-packages/ipykernel_launcher.py:55: RuntimeWarning: invalid value encountered in greater\n",
      "/usr/local/lib/python3.5/dist-packages/ipykernel_launcher.py:56: RuntimeWarning: invalid value encountered in greater\n",
      "/usr/local/lib/python3.5/dist-packages/ipykernel_launcher.py:55: RuntimeWarning: invalid value encountered in greater\n",
      "/usr/local/lib/python3.5/dist-packages/ipykernel_launcher.py:56: RuntimeWarning: invalid value encountered in greater\n",
      "/usr/local/lib/python3.5/dist-packages/ipykernel_launcher.py:55: RuntimeWarning: invalid value encountered in greater\n",
      "/usr/local/lib/python3.5/dist-packages/ipykernel_launcher.py:56: RuntimeWarning: invalid value encountered in greater\n",
      "/usr/local/lib/python3.5/dist-packages/ipykernel_launcher.py:56: RuntimeWarning: invalid value encountered in greater\n",
      "/usr/local/lib/python3.5/dist-packages/ipykernel_launcher.py:55: RuntimeWarning: invalid value encountered in greater\n",
      "/usr/local/lib/python3.5/dist-packages/ipykernel_launcher.py:55: RuntimeWarning: invalid value encountered in greater\n",
      "/usr/local/lib/python3.5/dist-packages/ipykernel_launcher.py:56: RuntimeWarning: invalid value encountered in greater\n",
      "/usr/local/lib/python3.5/dist-packages/ipykernel_launcher.py:55: RuntimeWarning: invalid value encountered in greater\n",
      "/usr/local/lib/python3.5/dist-packages/ipykernel_launcher.py:55: RuntimeWarning: invalid value encountered in greater\n",
      "/usr/local/lib/python3.5/dist-packages/ipykernel_launcher.py:56: RuntimeWarning: invalid value encountered in greater\n",
      "/usr/local/lib/python3.5/dist-packages/ipykernel_launcher.py:56: RuntimeWarning: invalid value encountered in greater\n",
      "/usr/local/lib/python3.5/dist-packages/ipykernel_launcher.py:55: RuntimeWarning: invalid value encountered in greater\n",
      "/usr/local/lib/python3.5/dist-packages/ipykernel_launcher.py:56: RuntimeWarning: invalid value encountered in greater\n",
      "/usr/local/lib/python3.5/dist-packages/ipykernel_launcher.py:56: RuntimeWarning: invalid value encountered in greater\n",
      "/usr/local/lib/python3.5/dist-packages/ipykernel_launcher.py:55: RuntimeWarning: invalid value encountered in greater\n",
      "/usr/local/lib/python3.5/dist-packages/ipykernel_launcher.py:55: RuntimeWarning: invalid value encountered in greater\n",
      "/usr/local/lib/python3.5/dist-packages/ipykernel_launcher.py:56: RuntimeWarning: invalid value encountered in greater\n",
      "/usr/local/lib/python3.5/dist-packages/ipykernel_launcher.py:55: RuntimeWarning: invalid value encountered in greater\n",
      "/usr/local/lib/python3.5/dist-packages/ipykernel_launcher.py:56: RuntimeWarning: invalid value encountered in greater\n",
      "/usr/local/lib/python3.5/dist-packages/ipykernel_launcher.py:55: RuntimeWarning: invalid value encountered in greater\n",
      "/usr/local/lib/python3.5/dist-packages/ipykernel_launcher.py:56: RuntimeWarning: invalid value encountered in greater\n",
      "/usr/local/lib/python3.5/dist-packages/ipykernel_launcher.py:55: RuntimeWarning: invalid value encountered in greater\n",
      "/usr/local/lib/python3.5/dist-packages/ipykernel_launcher.py:56: RuntimeWarning: invalid value encountered in greater\n",
      "/usr/local/lib/python3.5/dist-packages/ipykernel_launcher.py:56: RuntimeWarning: invalid value encountered in greater\n",
      "/usr/local/lib/python3.5/dist-packages/ipykernel_launcher.py:55: RuntimeWarning: invalid value encountered in greater\n",
      "/usr/local/lib/python3.5/dist-packages/ipykernel_launcher.py:55: RuntimeWarning: invalid value encountered in greater\n",
      "/usr/local/lib/python3.5/dist-packages/ipykernel_launcher.py:56: RuntimeWarning: invalid value encountered in greater\n"
     ]
    },
    {
     "name": "stdout",
     "output_type": "stream",
     "text": [
      "After Shape:  (892816, 207)\n",
      "(446409, 208) (148803, 208)\n",
      "Init Shape:  (595212, 62)\n",
      "After Shape:  (595212, 208)\n",
      "(446409, 208) (148803, 208)\n",
      "[0]\ttrain-gini:0.18474\tvalid-gini:0.18391\n",
      "Multiple eval metrics have been passed: 'valid-gini' will be used for early stopping.\n",
      "\n",
      "Will train until valid-gini hasn't improved in 200 rounds.\n",
      "[50]\ttrain-gini:0.342986\tvalid-gini:0.268611\n",
      "[100]\ttrain-gini:0.389613\tvalid-gini:0.26202\n",
      "[150]\ttrain-gini:0.425493\tvalid-gini:0.253817\n",
      "[200]\ttrain-gini:0.45969\tvalid-gini:0.249129\n",
      "Stopping. Best iteration:\n",
      "[34]\ttrain-gini:0.326877\tvalid-gini:0.273233\n",
      "\n",
      "Fit LGBMClassifier fold 1\n",
      "Fit LGBMClassifier fold 2\n",
      "Fit LGBMClassifier fold 3\n",
      "Fit LGBMClassifier fold 1\n",
      "Fit LGBMClassifier fold 2\n",
      "Fit LGBMClassifier fold 3\n",
      "Fit LGBMClassifier fold 1\n",
      "Fit LGBMClassifier fold 2\n",
      "Fit LGBMClassifier fold 3\n",
      "Fit LGBMClassifier fold 1\n",
      "Fit LGBMClassifier fold 2\n",
      "Fit LGBMClassifier fold 3\n",
      "Stacker score: 0.64138\n"
     ]
    }
   ],
   "source": [
    "\n",
    "        \n",
    "# LightGBM params\n",
    "lgb_params = {}\n",
    "lgb_params['learning_rate'] = 0.02\n",
    "lgb_params['n_estimators'] = 650\n",
    "lgb_params['max_bin'] = 10\n",
    "lgb_params['subsample'] = 0.8\n",
    "lgb_params['subsample_freq'] = 10\n",
    "lgb_params['colsample_bytree'] = 0.8   \n",
    "lgb_params['min_child_samples'] = 500\n",
    "lgb_params['random_state'] = 99\n",
    "\n",
    "\n",
    "lgb_params2 = {}\n",
    "lgb_params2['n_estimators'] = 1090\n",
    "lgb_params2['learning_rate'] = 0.02\n",
    "lgb_params2['colsample_bytree'] = 0.3   \n",
    "lgb_params2['subsample'] = 0.7\n",
    "lgb_params2['subsample_freq'] = 2\n",
    "lgb_params2['num_leaves'] = 16\n",
    "lgb_params2['random_state'] = 99\n",
    "\n",
    "\n",
    "lgb_params3 = {}\n",
    "lgb_params3['n_estimators'] = 1100\n",
    "lgb_params3['max_depth'] = 4\n",
    "lgb_params3['learning_rate'] = 0.02\n",
    "lgb_params3['random_state'] = 99\n",
    "\n",
    "# incorporated one more layer of my defined lgb params \n",
    "lgb_params4 = {}\n",
    "lgb_params4['n_estimators'] = 1450\n",
    "lgb_params4['max_bin'] = 20\n",
    "lgb_params3['max_depth'] = 6\n",
    "lgb_params4['learning_rate'] = 0.25 # shrinkage_rate\n",
    "lgb_params4['boosting_type'] = 'gbdt'\n",
    "lgb_params4['objective'] = 'binary'\n",
    "lgb_params4['min_data'] = 500         # min_data_in_leaf\n",
    "lgb_params4['min_hessian'] = 0.05     # min_sum_hessian_in_leaf\n",
    "lgb_params4['verbose'] = 0\n",
    "\n",
    "lgb_model = LGBMClassifier(**lgb_params)\n",
    "\n",
    "lgb_model2 = LGBMClassifier(**lgb_params2)\n",
    "\n",
    "lgb_model3 = LGBMClassifier(**lgb_params3)\n",
    "\n",
    "lgb_model4 = LGBMClassifier(**lgb_params4)\n",
    "#rf_model = RandomForestClassifier(**rf_params)\n",
    "\n",
    "#et_model = ExtraTreesClassifier(**et_params)\n",
    "        \n",
    "#xgb_model = XGBClassifier(**xgb_params)\n",
    "\n",
    "#cat_model = CatBoostClassifier(**cat_params)\n",
    "\n",
    "#rgf_model = RGFClassifier(**rgf_params) \n",
    "\n",
    "#gb_model = GradientBoostingClassifier(max_depth=5)\n",
    "\n",
    "#ada_model = AdaBoostClassifier()\n",
    "\n",
    "log_model = LogisticRegression()\n",
    "\n",
    "stack = Ensemble(n_splits=3,\n",
    "        stacker = log_model,\n",
    "        base_models = (lgb_model, lgb_model2, lgb_model3, lgb_model4))        \n",
    "        \n",
    "y_pred = stack.fit_predict(train, target_train, test)        \n",
    "\n",
    "lgbsub = pd.DataFrame()\n",
    "lgbsub['id'] = id_test\n",
    "lgbsub['target'] = y_pred\n",
    "lgbsub.to_csv('lgb_esm_submission.csv', index=False)\n",
    "\n",
    "\n",
    "df1 = pd.read_csv('lgb_esm_submission.csv')\n",
    "df2 = pd.read_csv('xgb_submission.csv') \n",
    "df2.columns = [x+'_' if x not in ['id'] else x for x in df2.columns]\n",
    "blend = pd.merge(df1, df2, how='left', on='id')\n",
    "for c in df1.columns:\n",
    "    if c != 'id':\n",
    "        blend[c] = (blend[c]*7)  + (blend[c+'_']*3)\n",
    "blend = blend[df1.columns]\n",
    "blend['target'] = (np.exp(blend['target'].values) - 1.0).clip(0,1)\n",
    "blend.to_csv('final_submission.csv', index=False, float_format='%.6f')"
   ]
  },
  {
   "cell_type": "code",
   "execution_count": 5,
   "metadata": {},
   "outputs": [
    {
     "data": {
      "text/plain": [
       "(417996, 2)"
      ]
     },
     "execution_count": 5,
     "metadata": {},
     "output_type": "execute_result"
    }
   ],
   "source": [
    "blend.shape"
   ]
  },
  {
   "cell_type": "code",
   "execution_count": 9,
   "metadata": {},
   "outputs": [
    {
     "data": {
      "text/plain": [
       "(892816, 61)"
      ]
     },
     "execution_count": 9,
     "metadata": {},
     "output_type": "execute_result"
    }
   ],
   "source": [
    "test.shape"
   ]
  },
  {
   "cell_type": "code",
   "execution_count": 7,
   "metadata": {
    "collapsed": true
   },
   "outputs": [],
   "source": [
    "test = pd.read_csv('test2.csv')"
   ]
  },
  {
   "cell_type": "code",
   "execution_count": 8,
   "metadata": {},
   "outputs": [
    {
     "data": {
      "text/plain": [
       "(892816, 61)"
      ]
     },
     "execution_count": 8,
     "metadata": {},
     "output_type": "execute_result"
    }
   ],
   "source": [
    "test.shape"
   ]
  },
  {
   "cell_type": "code",
   "execution_count": null,
   "metadata": {
    "collapsed": true
   },
   "outputs": [],
   "source": []
  }
 ],
 "metadata": {
  "kernelspec": {
   "display_name": "Python 3",
   "language": "python",
   "name": "python3"
  },
  "language_info": {
   "codemirror_mode": {
    "name": "ipython",
    "version": 3
   },
   "file_extension": ".py",
   "mimetype": "text/x-python",
   "name": "python",
   "nbconvert_exporter": "python",
   "pygments_lexer": "ipython3",
   "version": "3.5.2"
  }
 },
 "nbformat": 4,
 "nbformat_minor": 2
}
